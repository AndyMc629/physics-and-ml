{
 "cells": [
  {
   "cell_type": "markdown",
   "metadata": {},
   "source": [
    "\n",
    "# Learning the ground-state of a spin model with different Neural Networks available in NetKet\n",
    "\n",
    "The goal of this tutorial is to review various neural network architectures available in NetKet, and this in order to learn the ground-state of a paradigmatic spin model, namely the spin $1/2$ Heisenberg antiferromagnetic spin chain.\n",
    "\n",
    "The Hamiltonian we will consider for this tutorial is the following\n",
    "$$ H = \\sum_{i=1}^{L} \\vec{\\sigma}_{i} \\cdot \\vec{\\sigma}_{i+1}.$$\n",
    "\n",
    "$L$ is the length of the chain, and we will use both open and periodic boundary conditions. $\\vec{\\sigma}=(\\sigma^x,\\sigma^y,\\sigma^z)$ denotes the vector of Pauli matrices. Please note that there is a factor of $2$ between Pauli-matrices and spin-1/2 operators (thus a factor of $4$ in $H$).\n",
    "\n",
    "We will consider in this tutorial 5 possible ways of determining the ground-state of this model.\n",
    "\n",
    "0. Defining the Hamiltonian\n",
    "1. Exact Diagonalization (as a testbed)\n",
    "2. Starting simple: the Jastrow ansatz\n",
    "3. Learning with a Restricted Boltzmann Machine (RBM)\n",
    "4. RBM again, this time with lattice symmetries\n",
    "5. Learning with Feed Forward Neural Networks\n",
    "\n",
    "Estimated time for this tutorial: 20 minutes.\n",
    "\n",
    "First things first, let's import the essentials\n"
   ]
  },
  {
   "cell_type": "code",
   "execution_count": null,
   "metadata": {},
   "outputs": [],
   "source": [
    "\n",
    "\n",
    "# Import netket library\n",
    "import netket as nk\n",
    "# Import Json, this will be needed to examine log files\n",
    "import json\n",
    "# Helper libraries\n",
    "import numpy as np\n",
    "import matplotlib.pyplot as plt\n",
    "import time\n",
    "\n"
   ]
  },
  {
   "cell_type": "code",
   "execution_count": null,
   "metadata": {},
   "outputs": [],
   "source": []
  }
 ],
 "metadata": {
  "kernelspec": {
   "display_name": "Python [conda env:py36]",
   "language": "python",
   "name": "conda-env-py36-py"
  },
  "language_info": {
   "codemirror_mode": {
    "name": "ipython",
    "version": 3
   },
   "file_extension": ".py",
   "mimetype": "text/x-python",
   "name": "python",
   "nbconvert_exporter": "python",
   "pygments_lexer": "ipython3",
   "version": "3.6.5"
  }
 },
 "nbformat": 4,
 "nbformat_minor": 2
}
